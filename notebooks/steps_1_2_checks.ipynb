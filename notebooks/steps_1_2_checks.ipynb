{
 "cells": [
  {
   "cell_type": "code",
   "execution_count": 1,
   "metadata": {},
   "outputs": [
    {
     "name": "stderr",
     "output_type": "stream",
     "text": [
      "/tmp/ipykernel_12387/584824882.py:2: DeprecationWarning: \n",
      "Pyarrow will become a required dependency of pandas in the next major release of pandas (pandas 3.0),\n",
      "(to allow more performant data types, such as the Arrow string type, and better interoperability with other libraries)\n",
      "but was not found to be installed on your system.\n",
      "If this would cause problems for you,\n",
      "please provide us feedback at https://github.com/pandas-dev/pandas/issues/54466\n",
      "        \n",
      "  import pandas as pd\n"
     ]
    }
   ],
   "source": [
    "import csv\n",
    "import pandas as pd"
   ]
  },
  {
   "cell_type": "code",
   "execution_count": 3,
   "metadata": {},
   "outputs": [],
   "source": [
    "data = pd.read_csv(\"../data/copd_synthetic.csv\", index_col=0)"
   ]
  },
  {
   "cell_type": "code",
   "execution_count": 4,
   "metadata": {},
   "outputs": [
    {
     "data": {
      "text/html": [
       "<div>\n",
       "<style scoped>\n",
       "    .dataframe tbody tr th:only-of-type {\n",
       "        vertical-align: middle;\n",
       "    }\n",
       "\n",
       "    .dataframe tbody tr th {\n",
       "        vertical-align: top;\n",
       "    }\n",
       "\n",
       "    .dataframe thead th {\n",
       "        text-align: right;\n",
       "    }\n",
       "</style>\n",
       "<table border=\"1\" class=\"dataframe\">\n",
       "  <thead>\n",
       "    <tr style=\"text-align: right;\">\n",
       "      <th></th>\n",
       "      <th>ID</th>\n",
       "      <th>AGE</th>\n",
       "      <th>PackHistory</th>\n",
       "      <th>COPDSEVERITY</th>\n",
       "      <th>MWT1</th>\n",
       "      <th>MWT2</th>\n",
       "      <th>MWT1Best</th>\n",
       "      <th>FEV1</th>\n",
       "      <th>FEV1PRED</th>\n",
       "      <th>FVC</th>\n",
       "      <th>...</th>\n",
       "      <th>HAD</th>\n",
       "      <th>SGRQ</th>\n",
       "      <th>AGEquartiles</th>\n",
       "      <th>gender</th>\n",
       "      <th>smoking</th>\n",
       "      <th>Diabetes</th>\n",
       "      <th>muscular</th>\n",
       "      <th>hypertension</th>\n",
       "      <th>AtrialFib</th>\n",
       "      <th>IHD</th>\n",
       "    </tr>\n",
       "  </thead>\n",
       "  <tbody>\n",
       "    <tr>\n",
       "      <th>0</th>\n",
       "      <td>25</td>\n",
       "      <td>74.0</td>\n",
       "      <td>71</td>\n",
       "      <td>SEVERE</td>\n",
       "      <td>258</td>\n",
       "      <td>214</td>\n",
       "      <td>258</td>\n",
       "      <td>1.401366</td>\n",
       "      <td>11.0</td>\n",
       "      <td>2.377036</td>\n",
       "      <td>...</td>\n",
       "      <td>13</td>\n",
       "      <td>42.881273</td>\n",
       "      <td>3</td>\n",
       "      <td>1.0</td>\n",
       "      <td>2</td>\n",
       "      <td>1</td>\n",
       "      <td>0</td>\n",
       "      <td>0</td>\n",
       "      <td>0</td>\n",
       "      <td>0</td>\n",
       "    </tr>\n",
       "    <tr>\n",
       "      <th>1</th>\n",
       "      <td>104</td>\n",
       "      <td>77.0</td>\n",
       "      <td>41</td>\n",
       "      <td>MODERATE</td>\n",
       "      <td>307</td>\n",
       "      <td>280</td>\n",
       "      <td>313</td>\n",
       "      <td>1.347227</td>\n",
       "      <td>57.0</td>\n",
       "      <td>2.322822</td>\n",
       "      <td>...</td>\n",
       "      <td>15</td>\n",
       "      <td>38.693240</td>\n",
       "      <td>4</td>\n",
       "      <td>0.0</td>\n",
       "      <td>2</td>\n",
       "      <td>1</td>\n",
       "      <td>0</td>\n",
       "      <td>0</td>\n",
       "      <td>1</td>\n",
       "      <td>1</td>\n",
       "    </tr>\n",
       "    <tr>\n",
       "      <th>2</th>\n",
       "      <td>66</td>\n",
       "      <td>74.0</td>\n",
       "      <td>51</td>\n",
       "      <td>MODERATE</td>\n",
       "      <td>370</td>\n",
       "      <td>367</td>\n",
       "      <td>370</td>\n",
       "      <td>2.275576</td>\n",
       "      <td>74.0</td>\n",
       "      <td>4.849031</td>\n",
       "      <td>...</td>\n",
       "      <td>18</td>\n",
       "      <td>24.038178</td>\n",
       "      <td>3</td>\n",
       "      <td>1.0</td>\n",
       "      <td>2</td>\n",
       "      <td>0</td>\n",
       "      <td>0</td>\n",
       "      <td>0</td>\n",
       "      <td>0</td>\n",
       "      <td>0</td>\n",
       "    </tr>\n",
       "    <tr>\n",
       "      <th>3</th>\n",
       "      <td>142</td>\n",
       "      <td>63.0</td>\n",
       "      <td>45</td>\n",
       "      <td>VERY SEVERE</td>\n",
       "      <td>233</td>\n",
       "      <td>244</td>\n",
       "      <td>244</td>\n",
       "      <td>0.486223</td>\n",
       "      <td>19.0</td>\n",
       "      <td>1.513124</td>\n",
       "      <td>...</td>\n",
       "      <td>28</td>\n",
       "      <td>65.759074</td>\n",
       "      <td>2</td>\n",
       "      <td>1.0</td>\n",
       "      <td>2</td>\n",
       "      <td>0</td>\n",
       "      <td>0</td>\n",
       "      <td>1</td>\n",
       "      <td>1</td>\n",
       "      <td>0</td>\n",
       "    </tr>\n",
       "    <tr>\n",
       "      <th>4</th>\n",
       "      <td>152</td>\n",
       "      <td>71.0</td>\n",
       "      <td>35</td>\n",
       "      <td>SEVERE</td>\n",
       "      <td>216</td>\n",
       "      <td>226</td>\n",
       "      <td>226</td>\n",
       "      <td>1.086112</td>\n",
       "      <td>44.0</td>\n",
       "      <td>2.453488</td>\n",
       "      <td>...</td>\n",
       "      <td>19</td>\n",
       "      <td>64.818536</td>\n",
       "      <td>2</td>\n",
       "      <td>0.0</td>\n",
       "      <td>2</td>\n",
       "      <td>1</td>\n",
       "      <td>0</td>\n",
       "      <td>0</td>\n",
       "      <td>1</td>\n",
       "      <td>0</td>\n",
       "    </tr>\n",
       "  </tbody>\n",
       "</table>\n",
       "<p>5 rows × 22 columns</p>\n",
       "</div>"
      ],
      "text/plain": [
       "    ID   AGE  PackHistory COPDSEVERITY  MWT1  MWT2  MWT1Best      FEV1  \\\n",
       "0   25  74.0           71       SEVERE   258   214       258  1.401366   \n",
       "1  104  77.0           41     MODERATE   307   280       313  1.347227   \n",
       "2   66  74.0           51     MODERATE   370   367       370  2.275576   \n",
       "3  142  63.0           45  VERY SEVERE   233   244       244  0.486223   \n",
       "4  152  71.0           35       SEVERE   216   226       226  1.086112   \n",
       "\n",
       "   FEV1PRED       FVC  ...  HAD       SGRQ  AGEquartiles  gender  smoking  \\\n",
       "0      11.0  2.377036  ...   13  42.881273             3     1.0        2   \n",
       "1      57.0  2.322822  ...   15  38.693240             4     0.0        2   \n",
       "2      74.0  4.849031  ...   18  24.038178             3     1.0        2   \n",
       "3      19.0  1.513124  ...   28  65.759074             2     1.0        2   \n",
       "4      44.0  2.453488  ...   19  64.818536             2     0.0        2   \n",
       "\n",
       "   Diabetes  muscular  hypertension  AtrialFib  IHD  \n",
       "0         1         0             0          0    0  \n",
       "1         1         0             0          1    1  \n",
       "2         0         0             0          0    0  \n",
       "3         0         0             1          1    0  \n",
       "4         1         0             0          1    0  \n",
       "\n",
       "[5 rows x 22 columns]"
      ]
     },
     "execution_count": 4,
     "metadata": {},
     "output_type": "execute_result"
    }
   ],
   "source": [
    "data.head()"
   ]
  },
  {
   "cell_type": "code",
   "execution_count": 5,
   "metadata": {},
   "outputs": [
    {
     "data": {
      "text/plain": [
       "(101, 22)"
      ]
     },
     "execution_count": 5,
     "metadata": {},
     "output_type": "execute_result"
    }
   ],
   "source": [
    "data.shape"
   ]
  },
  {
   "cell_type": "markdown",
   "metadata": {},
   "source": [
    "### Target feature exists twice in the dataset so we will remove one of them."
   ]
  },
  {
   "cell_type": "code",
   "execution_count": 6,
   "metadata": {},
   "outputs": [
    {
     "ename": "KeyError",
     "evalue": "\"['copd'] not found in axis\"",
     "output_type": "error",
     "traceback": [
      "\u001b[0;31m---------------------------------------------------------------------------\u001b[0m",
      "\u001b[0;31mKeyError\u001b[0m                                  Traceback (most recent call last)",
      "Cell \u001b[0;32mIn[6], line 1\u001b[0m\n\u001b[0;32m----> 1\u001b[0m data \u001b[38;5;241m=\u001b[39m \u001b[43mdata\u001b[49m\u001b[38;5;241;43m.\u001b[39;49m\u001b[43mdrop\u001b[49m\u001b[43m(\u001b[49m\u001b[43mcolumns\u001b[49m\u001b[38;5;241;43m=\u001b[39;49m\u001b[43m[\u001b[49m\u001b[38;5;124;43m'\u001b[39;49m\u001b[38;5;124;43mcopd\u001b[39;49m\u001b[38;5;124;43m'\u001b[39;49m\u001b[43m]\u001b[49m\u001b[43m,\u001b[49m\u001b[43m \u001b[49m\u001b[43maxis\u001b[49m\u001b[38;5;241;43m=\u001b[39;49m\u001b[38;5;241;43m1\u001b[39;49m\u001b[43m)\u001b[49m\n\u001b[1;32m      2\u001b[0m data\u001b[38;5;241m.\u001b[39mshape\n",
      "File \u001b[0;32m~/post_market/.venv/lib/python3.10/site-packages/pandas/core/frame.py:5568\u001b[0m, in \u001b[0;36mDataFrame.drop\u001b[0;34m(self, labels, axis, index, columns, level, inplace, errors)\u001b[0m\n\u001b[1;32m   5420\u001b[0m \u001b[38;5;28;01mdef\u001b[39;00m \u001b[38;5;21mdrop\u001b[39m(\n\u001b[1;32m   5421\u001b[0m     \u001b[38;5;28mself\u001b[39m,\n\u001b[1;32m   5422\u001b[0m     labels: IndexLabel \u001b[38;5;241m|\u001b[39m \u001b[38;5;28;01mNone\u001b[39;00m \u001b[38;5;241m=\u001b[39m \u001b[38;5;28;01mNone\u001b[39;00m,\n\u001b[0;32m   (...)\u001b[0m\n\u001b[1;32m   5429\u001b[0m     errors: IgnoreRaise \u001b[38;5;241m=\u001b[39m \u001b[38;5;124m\"\u001b[39m\u001b[38;5;124mraise\u001b[39m\u001b[38;5;124m\"\u001b[39m,\n\u001b[1;32m   5430\u001b[0m ) \u001b[38;5;241m-\u001b[39m\u001b[38;5;241m>\u001b[39m DataFrame \u001b[38;5;241m|\u001b[39m \u001b[38;5;28;01mNone\u001b[39;00m:\n\u001b[1;32m   5431\u001b[0m \u001b[38;5;250m    \u001b[39m\u001b[38;5;124;03m\"\"\"\u001b[39;00m\n\u001b[1;32m   5432\u001b[0m \u001b[38;5;124;03m    Drop specified labels from rows or columns.\u001b[39;00m\n\u001b[1;32m   5433\u001b[0m \n\u001b[0;32m   (...)\u001b[0m\n\u001b[1;32m   5566\u001b[0m \u001b[38;5;124;03m            weight  1.0     0.8\u001b[39;00m\n\u001b[1;32m   5567\u001b[0m \u001b[38;5;124;03m    \"\"\"\u001b[39;00m\n\u001b[0;32m-> 5568\u001b[0m     \u001b[38;5;28;01mreturn\u001b[39;00m \u001b[38;5;28;43msuper\u001b[39;49m\u001b[43m(\u001b[49m\u001b[43m)\u001b[49m\u001b[38;5;241;43m.\u001b[39;49m\u001b[43mdrop\u001b[49m\u001b[43m(\u001b[49m\n\u001b[1;32m   5569\u001b[0m \u001b[43m        \u001b[49m\u001b[43mlabels\u001b[49m\u001b[38;5;241;43m=\u001b[39;49m\u001b[43mlabels\u001b[49m\u001b[43m,\u001b[49m\n\u001b[1;32m   5570\u001b[0m \u001b[43m        \u001b[49m\u001b[43maxis\u001b[49m\u001b[38;5;241;43m=\u001b[39;49m\u001b[43maxis\u001b[49m\u001b[43m,\u001b[49m\n\u001b[1;32m   5571\u001b[0m \u001b[43m        \u001b[49m\u001b[43mindex\u001b[49m\u001b[38;5;241;43m=\u001b[39;49m\u001b[43mindex\u001b[49m\u001b[43m,\u001b[49m\n\u001b[1;32m   5572\u001b[0m \u001b[43m        \u001b[49m\u001b[43mcolumns\u001b[49m\u001b[38;5;241;43m=\u001b[39;49m\u001b[43mcolumns\u001b[49m\u001b[43m,\u001b[49m\n\u001b[1;32m   5573\u001b[0m \u001b[43m        \u001b[49m\u001b[43mlevel\u001b[49m\u001b[38;5;241;43m=\u001b[39;49m\u001b[43mlevel\u001b[49m\u001b[43m,\u001b[49m\n\u001b[1;32m   5574\u001b[0m \u001b[43m        \u001b[49m\u001b[43minplace\u001b[49m\u001b[38;5;241;43m=\u001b[39;49m\u001b[43minplace\u001b[49m\u001b[43m,\u001b[49m\n\u001b[1;32m   5575\u001b[0m \u001b[43m        \u001b[49m\u001b[43merrors\u001b[49m\u001b[38;5;241;43m=\u001b[39;49m\u001b[43merrors\u001b[49m\u001b[43m,\u001b[49m\n\u001b[1;32m   5576\u001b[0m \u001b[43m    \u001b[49m\u001b[43m)\u001b[49m\n",
      "File \u001b[0;32m~/post_market/.venv/lib/python3.10/site-packages/pandas/core/generic.py:4782\u001b[0m, in \u001b[0;36mNDFrame.drop\u001b[0;34m(self, labels, axis, index, columns, level, inplace, errors)\u001b[0m\n\u001b[1;32m   4780\u001b[0m \u001b[38;5;28;01mfor\u001b[39;00m axis, labels \u001b[38;5;129;01min\u001b[39;00m axes\u001b[38;5;241m.\u001b[39mitems():\n\u001b[1;32m   4781\u001b[0m     \u001b[38;5;28;01mif\u001b[39;00m labels \u001b[38;5;129;01mis\u001b[39;00m \u001b[38;5;129;01mnot\u001b[39;00m \u001b[38;5;28;01mNone\u001b[39;00m:\n\u001b[0;32m-> 4782\u001b[0m         obj \u001b[38;5;241m=\u001b[39m \u001b[43mobj\u001b[49m\u001b[38;5;241;43m.\u001b[39;49m\u001b[43m_drop_axis\u001b[49m\u001b[43m(\u001b[49m\u001b[43mlabels\u001b[49m\u001b[43m,\u001b[49m\u001b[43m \u001b[49m\u001b[43maxis\u001b[49m\u001b[43m,\u001b[49m\u001b[43m \u001b[49m\u001b[43mlevel\u001b[49m\u001b[38;5;241;43m=\u001b[39;49m\u001b[43mlevel\u001b[49m\u001b[43m,\u001b[49m\u001b[43m \u001b[49m\u001b[43merrors\u001b[49m\u001b[38;5;241;43m=\u001b[39;49m\u001b[43merrors\u001b[49m\u001b[43m)\u001b[49m\n\u001b[1;32m   4784\u001b[0m \u001b[38;5;28;01mif\u001b[39;00m inplace:\n\u001b[1;32m   4785\u001b[0m     \u001b[38;5;28mself\u001b[39m\u001b[38;5;241m.\u001b[39m_update_inplace(obj)\n",
      "File \u001b[0;32m~/post_market/.venv/lib/python3.10/site-packages/pandas/core/generic.py:4824\u001b[0m, in \u001b[0;36mNDFrame._drop_axis\u001b[0;34m(self, labels, axis, level, errors, only_slice)\u001b[0m\n\u001b[1;32m   4822\u001b[0m         new_axis \u001b[38;5;241m=\u001b[39m axis\u001b[38;5;241m.\u001b[39mdrop(labels, level\u001b[38;5;241m=\u001b[39mlevel, errors\u001b[38;5;241m=\u001b[39merrors)\n\u001b[1;32m   4823\u001b[0m     \u001b[38;5;28;01melse\u001b[39;00m:\n\u001b[0;32m-> 4824\u001b[0m         new_axis \u001b[38;5;241m=\u001b[39m \u001b[43maxis\u001b[49m\u001b[38;5;241;43m.\u001b[39;49m\u001b[43mdrop\u001b[49m\u001b[43m(\u001b[49m\u001b[43mlabels\u001b[49m\u001b[43m,\u001b[49m\u001b[43m \u001b[49m\u001b[43merrors\u001b[49m\u001b[38;5;241;43m=\u001b[39;49m\u001b[43merrors\u001b[49m\u001b[43m)\u001b[49m\n\u001b[1;32m   4825\u001b[0m     indexer \u001b[38;5;241m=\u001b[39m axis\u001b[38;5;241m.\u001b[39mget_indexer(new_axis)\n\u001b[1;32m   4827\u001b[0m \u001b[38;5;66;03m# Case for non-unique axis\u001b[39;00m\n\u001b[1;32m   4828\u001b[0m \u001b[38;5;28;01melse\u001b[39;00m:\n",
      "File \u001b[0;32m~/post_market/.venv/lib/python3.10/site-packages/pandas/core/indexes/base.py:7069\u001b[0m, in \u001b[0;36mIndex.drop\u001b[0;34m(self, labels, errors)\u001b[0m\n\u001b[1;32m   7067\u001b[0m \u001b[38;5;28;01mif\u001b[39;00m mask\u001b[38;5;241m.\u001b[39many():\n\u001b[1;32m   7068\u001b[0m     \u001b[38;5;28;01mif\u001b[39;00m errors \u001b[38;5;241m!=\u001b[39m \u001b[38;5;124m\"\u001b[39m\u001b[38;5;124mignore\u001b[39m\u001b[38;5;124m\"\u001b[39m:\n\u001b[0;32m-> 7069\u001b[0m         \u001b[38;5;28;01mraise\u001b[39;00m \u001b[38;5;167;01mKeyError\u001b[39;00m(\u001b[38;5;124mf\u001b[39m\u001b[38;5;124m\"\u001b[39m\u001b[38;5;132;01m{\u001b[39;00mlabels[mask]\u001b[38;5;241m.\u001b[39mtolist()\u001b[38;5;132;01m}\u001b[39;00m\u001b[38;5;124m not found in axis\u001b[39m\u001b[38;5;124m\"\u001b[39m)\n\u001b[1;32m   7070\u001b[0m     indexer \u001b[38;5;241m=\u001b[39m indexer[\u001b[38;5;241m~\u001b[39mmask]\n\u001b[1;32m   7071\u001b[0m \u001b[38;5;28;01mreturn\u001b[39;00m \u001b[38;5;28mself\u001b[39m\u001b[38;5;241m.\u001b[39mdelete(indexer)\n",
      "\u001b[0;31mKeyError\u001b[0m: \"['copd'] not found in axis\""
     ]
    }
   ],
   "source": [
    "data = data.drop(columns=['copd'], axis=1)\n",
    "data.shape"
   ]
  },
  {
   "cell_type": "code",
   "execution_count": 7,
   "metadata": {},
   "outputs": [
    {
     "data": {
      "text/plain": [
       "array(['ID', 'AGE', 'PackHistory', 'COPDSEVERITY', 'MWT1', 'MWT2',\n",
       "       'MWT1Best', 'FEV1', 'FEV1PRED', 'FVC', 'FVCPRED', 'CAT', 'HAD',\n",
       "       'SGRQ', 'AGEquartiles', 'gender', 'smoking', 'Diabetes',\n",
       "       'muscular', 'hypertension', 'AtrialFib', 'IHD'], dtype=object)"
      ]
     },
     "execution_count": 7,
     "metadata": {},
     "output_type": "execute_result"
    }
   ],
   "source": [
    "data.columns.values"
   ]
  },
  {
   "cell_type": "markdown",
   "metadata": {},
   "source": [
    "### Step 1: Expert Knowledge Checks\n",
    "\n",
    "Based on bibliography about acceptable range of values for various features."
   ]
  },
  {
   "cell_type": "code",
   "execution_count": 8,
   "metadata": {},
   "outputs": [
    {
     "data": {
      "text/plain": [
       "[15, 45, 61, 88]"
      ]
     },
     "execution_count": 8,
     "metadata": {},
     "output_type": "execute_result"
    }
   ],
   "source": [
    "# Check MWT1\n",
    "mwt1_error_idx = data.index[(data['MWT1'] < 100) | (data['MWT1'] > 790)].tolist()\n",
    "mwt1_error_idx"
   ]
  },
  {
   "cell_type": "code",
   "execution_count": 9,
   "metadata": {},
   "outputs": [
    {
     "data": {
      "text/plain": [
       "[7, 10, 32, 71, 80]"
      ]
     },
     "execution_count": 9,
     "metadata": {},
     "output_type": "execute_result"
    }
   ],
   "source": [
    "# Check MWT2\n",
    "mwt2_error_idx = data.index[(data['MWT2'] < 100) | (data['MWT2'] > 790)].tolist()\n",
    "mwt2_error_idx"
   ]
  },
  {
   "cell_type": "code",
   "execution_count": 10,
   "metadata": {},
   "outputs": [
    {
     "data": {
      "text/plain": [
       "[13, 63, 64, 70, 96]"
      ]
     },
     "execution_count": 10,
     "metadata": {},
     "output_type": "execute_result"
    }
   ],
   "source": [
    "# Check MWT1Best\n",
    "mwt1best_error_idx = data.index[(data['MWT1Best'] < 100) | (data['MWT1Best'] > 790)].tolist()\n",
    "mwt1best_error_idx"
   ]
  },
  {
   "cell_type": "code",
   "execution_count": 11,
   "metadata": {},
   "outputs": [
    {
     "data": {
      "text/plain": [
       "[20, 32, 62, 69, 71, 90]"
      ]
     },
     "execution_count": 11,
     "metadata": {},
     "output_type": "execute_result"
    }
   ],
   "source": [
    "# Check FEV1PRED\n",
    "fev1pred_error_idx = data.index[(data['FEV1PRED'] < 11) | (data['FEV1PRED'] > 133)].tolist()\n",
    "fev1pred_error_idx"
   ]
  },
  {
   "cell_type": "code",
   "execution_count": 12,
   "metadata": {},
   "outputs": [
    {
     "data": {
      "text/plain": [
       "[19, 63, 84]"
      ]
     },
     "execution_count": 12,
     "metadata": {},
     "output_type": "execute_result"
    }
   ],
   "source": [
    "# Check SGRQ\n",
    "sgrq_error_idx = data.index[(data['SGRQ'] < 0) | (data['SGRQ'] > 93)].tolist()\n",
    "sgrq_error_idx"
   ]
  },
  {
   "cell_type": "code",
   "execution_count": 13,
   "metadata": {},
   "outputs": [
    {
     "data": {
      "text/plain": [
       "{'mwt1_error_idx': [15, 45, 61, 88],\n",
       " 'mwt2_error_idx': [7, 10, 32, 71, 80],\n",
       " 'mwt1best_error_idx': [13, 63, 64, 70, 96],\n",
       " 'fev1pred_error_idx': [20, 32, 62, 69, 71, 90],\n",
       " 'sgrq_error_idx': [19, 63, 84]}"
      ]
     },
     "execution_count": 13,
     "metadata": {},
     "output_type": "execute_result"
    }
   ],
   "source": [
    "expert_knowledge_results = {\n",
    "    'mwt1_error_idx': mwt1_error_idx,\n",
    "    'mwt2_error_idx': mwt2_error_idx,\n",
    "    'mwt1best_error_idx': mwt1best_error_idx,\n",
    "    'fev1pred_error_idx': fev1pred_error_idx,\n",
    "    'sgrq_error_idx': sgrq_error_idx\n",
    "}\n",
    "\n",
    "expert_knowledge_results"
   ]
  },
  {
   "cell_type": "markdown",
   "metadata": {},
   "source": [
    "### Step 2: Statistical Analysis Checks"
   ]
  },
  {
   "cell_type": "code",
   "execution_count": 14,
   "metadata": {},
   "outputs": [],
   "source": [
    "statistical_analysis_results = {}"
   ]
  },
  {
   "cell_type": "code",
   "execution_count": 15,
   "metadata": {},
   "outputs": [],
   "source": [
    "# Check for duplicates\n",
    "duplicates_idx = data[data.duplicated()].index.tolist()\n",
    "statistical_analysis_results['duplicates_idx'] = duplicates_idx"
   ]
  },
  {
   "cell_type": "code",
   "execution_count": 16,
   "metadata": {},
   "outputs": [],
   "source": [
    "# Check for null values\n",
    "null_results = {}\n",
    "for column in data.columns:\n",
    "    column_null_idx = data[data[column].isnull()].index.tolist()\n",
    "    null_results[column] = column_null_idx\n",
    "statistical_analysis_results['null_idx'] = null_results"
   ]
  },
  {
   "cell_type": "code",
   "execution_count": 17,
   "metadata": {},
   "outputs": [],
   "source": [
    "# Check for data type consistency\n",
    "\n",
    "# We first load the data into a dictionary, checking for their original data types before creating the pandas Dataframe.\n",
    "# Unfortunately we have to do this whole workaround because if we load the data immediately using pandas it enforces its own data types to columns homogeneously.\n",
    "\n",
    "def convert_to_numeric(value):\n",
    "    if value is None:\n",
    "        return float('nan')\n",
    "    if '.' in value:\n",
    "        try:\n",
    "            return float(value)\n",
    "        except ValueError:\n",
    "            return value\n",
    "    else:\n",
    "        try:\n",
    "            return int(value)\n",
    "        except ValueError:\n",
    "            return value\n",
    "\n",
    "def read_csv_to_dict(file_path):\n",
    "    data_dict = {}\n",
    "    \n",
    "    with open(file_path, 'r') as csv_file:\n",
    "        csv_reader = csv.DictReader(csv_file)\n",
    "        \n",
    "        for row in csv_reader:\n",
    "            for key, value in row.items():\n",
    "                if key not in data_dict:\n",
    "                    data_dict[key] = []\n",
    "                \n",
    "                # Convert to int or float if possible\n",
    "                converted_value = convert_to_numeric(value)\n",
    "                data_dict[key].append(converted_value)\n",
    "    \n",
    "    return data_dict"
   ]
  },
  {
   "cell_type": "code",
   "execution_count": 18,
   "metadata": {},
   "outputs": [],
   "source": [
    "data_path = \"../data/copd_synthetic.csv\"\n",
    "data_dict = read_csv_to_dict(data_path)\n",
    "true_datatypes_df = pd.DataFrame(data_dict).drop(columns=[''], axis=1)"
   ]
  },
  {
   "cell_type": "code",
   "execution_count": 19,
   "metadata": {},
   "outputs": [],
   "source": [
    "# Check for data type consistency\n",
    "data_type_results = {}\n",
    "for column in true_datatypes_df.columns:\n",
    "    column_types = {}\n",
    "    for value in true_datatypes_df[column]:\n",
    "        if type(value).__name__ in list(column_types.keys()):\n",
    "            column_types[type(value).__name__] += 1\n",
    "        else:\n",
    "            column_types[type(value).__name__] = 1\n",
    "    data_type_results[column] = column_types\n",
    "statistical_analysis_results['feature_data_type'] = data_type_results"
   ]
  },
  {
   "cell_type": "code",
   "execution_count": 20,
   "metadata": {},
   "outputs": [],
   "source": [
    "# Check features where all values are the same (0 cardinality)\n",
    "zero_cardinality_columns = []\n",
    "for column in data.columns:\n",
    "    if data[column].nunique() == 1:\n",
    "        zero_cardinality_columns.append(column)\n",
    "statistical_analysis_results['zero_cardinality_columns'] = zero_cardinality_columns"
   ]
  },
  {
   "cell_type": "code",
   "execution_count": 21,
   "metadata": {},
   "outputs": [],
   "source": [
    "# TODO: Decide if there is going to be a check for high cardinality\n",
    "# This requires deciding on which data types this will be applied\n",
    "# Also the threshold tthat determines what cardinality is considered high should be decided"
   ]
  },
  {
   "cell_type": "code",
   "execution_count": 22,
   "metadata": {},
   "outputs": [],
   "source": [
    "# Check for outliers based on IQR\n",
    "# Only a small fraction of the original dataset should be excluded\n",
    "# This refers to features where more than 90% of the data are floats\n",
    "# TODO: Reiterate to see if there are going to be checks for ints, too\n",
    "\n",
    "def check_feature_outliers(data, feature, iqr_factor=1.7):\n",
    "    q1 = data[feature].quantile(0.25)\n",
    "    q3 = data[feature].quantile(0.75)\n",
    "    iqr = q3-q1\n",
    "\n",
    "    lower_bound = q1 - iqr_factor*iqr\n",
    "    upper_bound = q3 + iqr_factor*iqr\n",
    "\n",
    "    return data[(data[feature] > upper_bound) | (data[feature] < lower_bound)].index.tolist()"
   ]
  },
  {
   "cell_type": "code",
   "execution_count": 23,
   "metadata": {},
   "outputs": [],
   "source": [
    "outliers_results = {}\n",
    "for column in data.columns:\n",
    "    feature_data_types = statistical_analysis_results['feature_data_type'][column]\n",
    "\n",
    "    total_counter =0\n",
    "    float_counter = 0\n",
    "\n",
    "    for key, value in feature_data_types.items():\n",
    "\n",
    "        total_counter += value\n",
    "\n",
    "        if key == 'float':\n",
    "            float_counter += value\n",
    "    float_fraction = float_counter / total_counter\n",
    "    if float_fraction >= 0.9:\n",
    "        outliers_idx = check_feature_outliers(data, column)\n",
    "        feature_outliers_key = column + \"_outliers_idx\"\n",
    "        outliers_results[column] = outliers_idx\n",
    "statistical_analysis_results['outliers_idx'] = outliers_results"
   ]
  },
  {
   "cell_type": "code",
   "execution_count": 24,
   "metadata": {},
   "outputs": [
    {
     "data": {
      "text/plain": [
       "{'duplicates_idx': [94],\n",
       " 'null_idx': {'ID': [],\n",
       "  'AGE': [],\n",
       "  'PackHistory': [],\n",
       "  'COPDSEVERITY': [],\n",
       "  'MWT1': [],\n",
       "  'MWT2': [],\n",
       "  'MWT1Best': [],\n",
       "  'FEV1': [7, 9, 46, 96],\n",
       "  'FEV1PRED': [7, 9, 46, 96],\n",
       "  'FVC': [],\n",
       "  'FVCPRED': [],\n",
       "  'CAT': [7, 9, 46, 96],\n",
       "  'HAD': [],\n",
       "  'SGRQ': [],\n",
       "  'AGEquartiles': [],\n",
       "  'gender': [7, 9, 46, 96],\n",
       "  'smoking': [],\n",
       "  'Diabetes': [],\n",
       "  'muscular': [],\n",
       "  'hypertension': [],\n",
       "  'AtrialFib': [],\n",
       "  'IHD': []},\n",
       " 'feature_data_type': {'ID': {'int': 101},\n",
       "  'AGE': {'float': 101},\n",
       "  'PackHistory': {'int': 101},\n",
       "  'COPDSEVERITY': {'str': 101},\n",
       "  'MWT1': {'int': 101},\n",
       "  'MWT2': {'int': 101},\n",
       "  'MWT1Best': {'int': 101},\n",
       "  'FEV1': {'float': 95, 'str': 4, 'int': 2},\n",
       "  'FEV1PRED': {'float': 97, 'str': 4},\n",
       "  'FVC': {'float': 101},\n",
       "  'FVCPRED': {'int': 101},\n",
       "  'CAT': {'float': 97, 'str': 4},\n",
       "  'HAD': {'int': 101},\n",
       "  'SGRQ': {'float': 101},\n",
       "  'AGEquartiles': {'int': 101},\n",
       "  'gender': {'float': 97, 'str': 4},\n",
       "  'smoking': {'int': 101},\n",
       "  'Diabetes': {'int': 101},\n",
       "  'muscular': {'int': 101},\n",
       "  'hypertension': {'int': 101},\n",
       "  'AtrialFib': {'int': 101},\n",
       "  'IHD': {'int': 101}},\n",
       " 'zero_cardinality_columns': ['muscular'],\n",
       " 'outliers_idx': {'AGE': [32, 78],\n",
       "  'FEV1': [],\n",
       "  'FEV1PRED': [32, 71],\n",
       "  'FVC': [28, 56, 61],\n",
       "  'CAT': [],\n",
       "  'SGRQ': [63],\n",
       "  'gender': []}}"
      ]
     },
     "execution_count": 24,
     "metadata": {},
     "output_type": "execute_result"
    }
   ],
   "source": [
    "statistical_analysis_results"
   ]
  },
  {
   "cell_type": "code",
   "execution_count": null,
   "metadata": {},
   "outputs": [],
   "source": []
  }
 ],
 "metadata": {
  "kernelspec": {
   "display_name": ".venv",
   "language": "python",
   "name": "python3"
  },
  "language_info": {
   "codemirror_mode": {
    "name": "ipython",
    "version": 3
   },
   "file_extension": ".py",
   "mimetype": "text/x-python",
   "name": "python",
   "nbconvert_exporter": "python",
   "pygments_lexer": "ipython3",
   "version": "3.10.12"
  }
 },
 "nbformat": 4,
 "nbformat_minor": 2
}
