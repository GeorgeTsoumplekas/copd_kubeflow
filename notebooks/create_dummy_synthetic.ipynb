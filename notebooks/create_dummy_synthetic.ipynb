{
 "cells": [
  {
   "cell_type": "code",
   "execution_count": 1,
   "metadata": {},
   "outputs": [
    {
     "name": "stderr",
     "output_type": "stream",
     "text": [
      "/tmp/ipykernel_93395/2162656668.py:1: DeprecationWarning: \n",
      "Pyarrow will become a required dependency of pandas in the next major release of pandas (pandas 3.0),\n",
      "(to allow more performant data types, such as the Arrow string type, and better interoperability with other libraries)\n",
      "but was not found to be installed on your system.\n",
      "If this would cause problems for you,\n",
      "please provide us feedback at https://github.com/pandas-dev/pandas/issues/54466\n",
      "        \n",
      "  import pandas as pd\n"
     ]
    }
   ],
   "source": [
    "import pandas as pd\n",
    "import numpy as np"
   ]
  },
  {
   "cell_type": "code",
   "execution_count": 2,
   "metadata": {},
   "outputs": [],
   "source": [
    "np.random.seed(42)"
   ]
  },
  {
   "cell_type": "code",
   "execution_count": 3,
   "metadata": {},
   "outputs": [],
   "source": [
    "data_real = pd.read_csv(\"./data/copd.csv\", index_col=0)\n",
    "data_real = data_real.drop(columns=['copd'], axis=1)"
   ]
  },
  {
   "cell_type": "code",
   "execution_count": 4,
   "metadata": {},
   "outputs": [],
   "source": [
    "data_synthetic = pd.DataFrame(columns=data_real.columns)"
   ]
  },
  {
   "cell_type": "code",
   "execution_count": 5,
   "metadata": {},
   "outputs": [],
   "source": [
    "# Create synthetic samples by taking convex combinations from randomly selected existing data\n",
    "for index in range(50):\n",
    "    current_row = data_real.iloc[index]\n",
    "\n",
    "    copd_severity_value = current_row['COPDSEVERITY']\n",
    "\n",
    "    matching_rows = data_real[data_real['COPDSEVERITY'] == copd_severity_value]\n",
    "\n",
    "    random_row = matching_rows.sample(1).iloc[0]\n",
    "    \n",
    "    random_coefficients = np.random.rand(2)\n",
    "    random_coefficients /= random_coefficients.sum()\n",
    "\n",
    "    convex_combination_values = random_coefficients[0]*current_row.drop('COPDSEVERITY') + random_coefficients[1]*random_row.drop('COPDSEVERITY')\n",
    "    convex_combination_values['COPDSEVERITY'] = copd_severity_value\n",
    "    \n",
    "    data_synthetic.loc[len(data_synthetic)] = convex_combination_values"
   ]
  },
  {
   "cell_type": "code",
   "execution_count": 6,
   "metadata": {},
   "outputs": [],
   "source": [
    "# Create the rest of the samples by adding white noise to existing samples\n",
    "noise_stds = {\n",
    "    'ID': 10,\n",
    "    'AGE': 7,\n",
    "    'PackHistory': 10,\n",
    "    'MWT1': 50,\n",
    "    'MWT2': 50,\n",
    "    'MWT1Best': 50,\n",
    "    'FEV1': 0.1,\n",
    "    'FEV1PRED': 7,\n",
    "    'FVC': 0.2,\n",
    "    'FVCPRED': 9,\n",
    "    'CAT': 10,\n",
    "    'HAD': 5,\n",
    "    'SGRQ': 5\n",
    "}"
   ]
  },
  {
   "cell_type": "code",
   "execution_count": 7,
   "metadata": {},
   "outputs": [],
   "source": [
    "for _ in range(51):\n",
    "    selected_row = data_real.sample(1)\n",
    "\n",
    "    modified_row = selected_row.copy()\n",
    "\n",
    "    for key, value in noise_stds.items():\n",
    "        modified_row[key] += np.random.normal(0, value)\n",
    "\n",
    "    data_synthetic = pd.concat([data_synthetic, modified_row])"
   ]
  },
  {
   "cell_type": "code",
   "execution_count": 8,
   "metadata": {},
   "outputs": [
    {
     "data": {
      "text/plain": [
       "(101, 22)"
      ]
     },
     "execution_count": 8,
     "metadata": {},
     "output_type": "execute_result"
    }
   ],
   "source": [
    "data_synthetic.shape"
   ]
  },
  {
   "cell_type": "code",
   "execution_count": 9,
   "metadata": {},
   "outputs": [],
   "source": [
    "# These columns have integer values\n",
    "round_columns = ['ID', 'AGE', 'PackHistory', 'MWT1', 'MWT2', 'MWT1Best', 'FEV1PRED', 'FVCPRED', 'CAT', 'HAD', 'AGEquartiles', 'gender', 'smoking', 'Diabetes', 'muscular', 'hypertension', 'AtrialFib', 'IHD']"
   ]
  },
  {
   "cell_type": "code",
   "execution_count": 10,
   "metadata": {},
   "outputs": [
    {
     "name": "stderr",
     "output_type": "stream",
     "text": [
      "/tmp/ipykernel_93395/3232062473.py:2: FutureWarning: errors='ignore' is deprecated and will raise in a future version. Use to_numeric without passing `errors` and catch exceptions explicitly instead\n",
      "  data_synthetic[column] = pd.to_numeric(data_synthetic[column], errors='ignore').round().astype(int)\n",
      "/tmp/ipykernel_93395/3232062473.py:2: FutureWarning: errors='ignore' is deprecated and will raise in a future version. Use to_numeric without passing `errors` and catch exceptions explicitly instead\n",
      "  data_synthetic[column] = pd.to_numeric(data_synthetic[column], errors='ignore').round().astype(int)\n",
      "/tmp/ipykernel_93395/3232062473.py:2: FutureWarning: errors='ignore' is deprecated and will raise in a future version. Use to_numeric without passing `errors` and catch exceptions explicitly instead\n",
      "  data_synthetic[column] = pd.to_numeric(data_synthetic[column], errors='ignore').round().astype(int)\n",
      "/tmp/ipykernel_93395/3232062473.py:2: FutureWarning: errors='ignore' is deprecated and will raise in a future version. Use to_numeric without passing `errors` and catch exceptions explicitly instead\n",
      "  data_synthetic[column] = pd.to_numeric(data_synthetic[column], errors='ignore').round().astype(int)\n",
      "/tmp/ipykernel_93395/3232062473.py:2: FutureWarning: errors='ignore' is deprecated and will raise in a future version. Use to_numeric without passing `errors` and catch exceptions explicitly instead\n",
      "  data_synthetic[column] = pd.to_numeric(data_synthetic[column], errors='ignore').round().astype(int)\n",
      "/tmp/ipykernel_93395/3232062473.py:2: FutureWarning: errors='ignore' is deprecated and will raise in a future version. Use to_numeric without passing `errors` and catch exceptions explicitly instead\n",
      "  data_synthetic[column] = pd.to_numeric(data_synthetic[column], errors='ignore').round().astype(int)\n",
      "/tmp/ipykernel_93395/3232062473.py:2: FutureWarning: errors='ignore' is deprecated and will raise in a future version. Use to_numeric without passing `errors` and catch exceptions explicitly instead\n",
      "  data_synthetic[column] = pd.to_numeric(data_synthetic[column], errors='ignore').round().astype(int)\n",
      "/tmp/ipykernel_93395/3232062473.py:2: FutureWarning: errors='ignore' is deprecated and will raise in a future version. Use to_numeric without passing `errors` and catch exceptions explicitly instead\n",
      "  data_synthetic[column] = pd.to_numeric(data_synthetic[column], errors='ignore').round().astype(int)\n",
      "/tmp/ipykernel_93395/3232062473.py:2: FutureWarning: errors='ignore' is deprecated and will raise in a future version. Use to_numeric without passing `errors` and catch exceptions explicitly instead\n",
      "  data_synthetic[column] = pd.to_numeric(data_synthetic[column], errors='ignore').round().astype(int)\n",
      "/tmp/ipykernel_93395/3232062473.py:2: FutureWarning: errors='ignore' is deprecated and will raise in a future version. Use to_numeric without passing `errors` and catch exceptions explicitly instead\n",
      "  data_synthetic[column] = pd.to_numeric(data_synthetic[column], errors='ignore').round().astype(int)\n",
      "/tmp/ipykernel_93395/3232062473.py:2: FutureWarning: errors='ignore' is deprecated and will raise in a future version. Use to_numeric without passing `errors` and catch exceptions explicitly instead\n",
      "  data_synthetic[column] = pd.to_numeric(data_synthetic[column], errors='ignore').round().astype(int)\n",
      "/tmp/ipykernel_93395/3232062473.py:2: FutureWarning: errors='ignore' is deprecated and will raise in a future version. Use to_numeric without passing `errors` and catch exceptions explicitly instead\n",
      "  data_synthetic[column] = pd.to_numeric(data_synthetic[column], errors='ignore').round().astype(int)\n",
      "/tmp/ipykernel_93395/3232062473.py:2: FutureWarning: errors='ignore' is deprecated and will raise in a future version. Use to_numeric without passing `errors` and catch exceptions explicitly instead\n",
      "  data_synthetic[column] = pd.to_numeric(data_synthetic[column], errors='ignore').round().astype(int)\n",
      "/tmp/ipykernel_93395/3232062473.py:2: FutureWarning: errors='ignore' is deprecated and will raise in a future version. Use to_numeric without passing `errors` and catch exceptions explicitly instead\n",
      "  data_synthetic[column] = pd.to_numeric(data_synthetic[column], errors='ignore').round().astype(int)\n",
      "/tmp/ipykernel_93395/3232062473.py:2: FutureWarning: errors='ignore' is deprecated and will raise in a future version. Use to_numeric without passing `errors` and catch exceptions explicitly instead\n",
      "  data_synthetic[column] = pd.to_numeric(data_synthetic[column], errors='ignore').round().astype(int)\n",
      "/tmp/ipykernel_93395/3232062473.py:2: FutureWarning: errors='ignore' is deprecated and will raise in a future version. Use to_numeric without passing `errors` and catch exceptions explicitly instead\n",
      "  data_synthetic[column] = pd.to_numeric(data_synthetic[column], errors='ignore').round().astype(int)\n",
      "/tmp/ipykernel_93395/3232062473.py:2: FutureWarning: errors='ignore' is deprecated and will raise in a future version. Use to_numeric without passing `errors` and catch exceptions explicitly instead\n",
      "  data_synthetic[column] = pd.to_numeric(data_synthetic[column], errors='ignore').round().astype(int)\n",
      "/tmp/ipykernel_93395/3232062473.py:2: FutureWarning: errors='ignore' is deprecated and will raise in a future version. Use to_numeric without passing `errors` and catch exceptions explicitly instead\n",
      "  data_synthetic[column] = pd.to_numeric(data_synthetic[column], errors='ignore').round().astype(int)\n"
     ]
    }
   ],
   "source": [
    "for column in round_columns:\n",
    "    data_synthetic[column] = pd.to_numeric(data_synthetic[column], errors='ignore').round().astype(int)"
   ]
  },
  {
   "cell_type": "code",
   "execution_count": 11,
   "metadata": {},
   "outputs": [],
   "source": [
    "# Add some outliers in MWT1 on purpose\n",
    "random_index = np.random.choice(data_synthetic.index, 3)\n",
    "outliers = [80, 70, 810]\n",
    "\n",
    "for random_idx, outlier in zip(random_index, outliers):\n",
    "    data_synthetic.at[random_idx, 'MWT1'] = outlier"
   ]
  },
  {
   "cell_type": "code",
   "execution_count": 12,
   "metadata": {},
   "outputs": [],
   "source": [
    "# Add some outliers in MWT2 on purpose\n",
    "random_index = np.random.choice(data_synthetic.index, 3)\n",
    "outliers = [80, 70, 810]\n",
    "\n",
    "for random_idx, outlier in zip(random_index, outliers):\n",
    "    data_synthetic.at[random_idx, 'MWT2'] = outlier"
   ]
  },
  {
   "cell_type": "code",
   "execution_count": 13,
   "metadata": {},
   "outputs": [],
   "source": [
    "# Add some outliers in MWT1Best on purpose\n",
    "random_index = np.random.choice(data_synthetic.index, 3)\n",
    "outliers = [80, 70, 810]\n",
    "\n",
    "for random_idx, outlier in zip(random_index, outliers):\n",
    "    data_synthetic.at[random_idx, 'MWT1Best'] = outlier"
   ]
  },
  {
   "cell_type": "code",
   "execution_count": 14,
   "metadata": {},
   "outputs": [],
   "source": [
    "# Add some outliers in FEV1PRED on purpose\n",
    "random_index = np.random.choice(data_synthetic.index, 3)\n",
    "outliers = [8, 140, -5]\n",
    "\n",
    "for random_idx, outlier in zip(random_index, outliers):\n",
    "    data_synthetic.at[random_idx, 'FEV1PRED'] = outlier"
   ]
  },
  {
   "cell_type": "code",
   "execution_count": 15,
   "metadata": {},
   "outputs": [],
   "source": [
    "# Add some outliers in SGRQ on purpose\n",
    "random_index = np.random.choice(data_synthetic.index, 3)\n",
    "outliers = [-2.4, 140, -5]\n",
    "\n",
    "for random_idx, outlier in zip(random_index, outliers):\n",
    "    data_synthetic.at[random_idx, 'SGRQ'] = outlier"
   ]
  },
  {
   "cell_type": "code",
   "execution_count": 16,
   "metadata": {},
   "outputs": [],
   "source": [
    "data_synthetic = data_synthetic.reset_index()"
   ]
  },
  {
   "cell_type": "code",
   "execution_count": 17,
   "metadata": {},
   "outputs": [],
   "source": [
    "# Add a duplicate row\n",
    "random_index1, random_index2 = np.random.choice(data_synthetic.index, size=2, replace=False)\n",
    "data_synthetic.loc[random_index1] = data_synthetic.loc[random_index2].values"
   ]
  },
  {
   "cell_type": "code",
   "execution_count": 18,
   "metadata": {},
   "outputs": [],
   "source": [
    "# Add null values\n",
    "random_rows = np.random.choice(data_synthetic.index, size=4, replace=False)\n",
    "random_columns = np.random.choice(data_synthetic.columns, size=4, replace=True)\n",
    "\n",
    "data_synthetic.loc[random_rows, random_columns] = np.nan"
   ]
  },
  {
   "cell_type": "code",
   "execution_count": 19,
   "metadata": {},
   "outputs": [],
   "source": [
    "# Add float values in age\n",
    "data_synthetic['AGE'] = data_synthetic['AGE'].astype('object')\n",
    "\n",
    "random_index = np.random.choice(data_synthetic.index, 3)\n",
    "fake_floats = [33.4, 66.2, 72.1]\n",
    "\n",
    "for random_idx, fake_float in zip(random_index, fake_floats):\n",
    "    data_synthetic.at[random_idx, 'AGE'] = fake_float"
   ]
  },
  {
   "cell_type": "code",
   "execution_count": 20,
   "metadata": {},
   "outputs": [],
   "source": [
    "# Add int values in FEV1\n",
    "data_synthetic['FEV1'] = data_synthetic['FEV1'].astype('object')\n",
    "\n",
    "random_index = np.random.choice(data_synthetic.index, 2)\n",
    "fake_ints = [1, 2]\n",
    "\n",
    "for random_idx, fake_int in zip(random_index, fake_ints):\n",
    "    data_synthetic.at[random_idx, 'FEV1'] = fake_int"
   ]
  },
  {
   "cell_type": "code",
   "execution_count": 21,
   "metadata": {},
   "outputs": [],
   "source": [
    "# Create a zero cardinality column\n",
    "data_synthetic['muscular'] = 0"
   ]
  },
  {
   "cell_type": "code",
   "execution_count": 22,
   "metadata": {},
   "outputs": [],
   "source": [
    "# Add some outliers in FVC on purpose\n",
    "random_index = np.random.choice(data_synthetic.index, 3)\n",
    "outliers = [1000.0, 2000.0, 3000.0]\n",
    "\n",
    "for random_idx, outlier in zip(random_index, outliers):\n",
    "    data_synthetic.at[random_idx, 'FVC'] = outlier"
   ]
  },
  {
   "cell_type": "code",
   "execution_count": 23,
   "metadata": {},
   "outputs": [],
   "source": [
    "data_synthetic.drop(columns=['index'], inplace=True)"
   ]
  },
  {
   "cell_type": "code",
   "execution_count": 24,
   "metadata": {},
   "outputs": [],
   "source": [
    "data_synthetic.to_csv(\"data/copd_synthetic.csv\")"
   ]
  },
  {
   "cell_type": "code",
   "execution_count": null,
   "metadata": {},
   "outputs": [],
   "source": []
  }
 ],
 "metadata": {
  "kernelspec": {
   "display_name": ".venv",
   "language": "python",
   "name": "python3"
  },
  "language_info": {
   "codemirror_mode": {
    "name": "ipython",
    "version": 3
   },
   "file_extension": ".py",
   "mimetype": "text/x-python",
   "name": "python",
   "nbconvert_exporter": "python",
   "pygments_lexer": "ipython3",
   "version": "3.10.12"
  }
 },
 "nbformat": 4,
 "nbformat_minor": 2
}
